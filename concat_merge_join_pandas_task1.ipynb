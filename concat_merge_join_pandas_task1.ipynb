{
 "cells": [
  {
   "cell_type": "code",
   "execution_count": 2,
   "metadata": {
    "collapsed": true
   },
   "outputs": [],
   "source": [
    "# Pandas\n",
    "import pandas as pd"
   ]
  },
  {
   "cell_type": "code",
   "execution_count": 3,
   "metadata": {},
   "outputs": [
    {
     "name": "stdout",
     "output_type": "stream",
     "text": [
      "   A  B\n",
      "1  1  5\n",
      "2  2  6\n",
      "3  3  7\n",
      "4  4  8\n",
      "5  1  5\n",
      "6  2  6\n",
      "7  3  7\n",
      "8  4  8\n",
      "------------------------------\n",
      "     A    B    A    B\n",
      "1  1.0  5.0  NaN  NaN\n",
      "2  2.0  6.0  NaN  NaN\n",
      "3  3.0  7.0  NaN  NaN\n",
      "4  4.0  8.0  NaN  NaN\n",
      "5  NaN  NaN  1.0  5.0\n",
      "6  NaN  NaN  2.0  6.0\n",
      "7  NaN  NaN  3.0  7.0\n",
      "8  NaN  NaN  4.0  8.0\n"
     ]
    }
   ],
   "source": [
    "# Concat\n",
    "# joining data frames along the axis (rows or columns)\n",
    "\n",
    "data1 = pd.DataFrame({\n",
    "    \"A\": [1, 2, 3, 4],\n",
    "    \"B\": [5, 6, 7, 8]\n",
    "}, index=[1, 2, 3, 4])\n",
    "\n",
    "data2 = pd.DataFrame({\n",
    "    \"A\": [1, 2, 3, 4],\n",
    "    \"B\": [5, 6, 7, 8]\n",
    "}, index=[5, 6, 7, 8])\n",
    "\n",
    "print(pd.concat([data1, data2]))\n",
    "print(\"-\" * 30)\n",
    "print(pd.concat([data1, data2], axis=1))"
   ]
  },
  {
   "cell_type": "code",
   "execution_count": 14,
   "metadata": {},
   "outputs": [
    {
     "name": "stdout",
     "output_type": "stream",
     "text": [
      "   A  B  D\n",
      "0  1  5  5\n",
      "1  2  6  6\n",
      "------------------------------\n",
      "   A    B    D\n",
      "0  1  5.0  5.0\n",
      "1  2  6.0  6.0\n",
      "2  3  7.0  NaN\n",
      "3  4  8.0  NaN\n",
      "4  5  NaN  7.0\n",
      "5  6  NaN  8.0\n",
      "------------------------------\n",
      "   A  B  D\n",
      "0  1  5  5\n",
      "1  2  6  6\n"
     ]
    }
   ],
   "source": [
    "\n",
    "# Merge\n",
    "# joining data frames along a specific column common in both frames with common values \n",
    "# like foriegn key in SQL -> joining can be outer/inner join like SQL\n",
    "\n",
    "data1 = pd.DataFrame({\n",
    "    \"A\": [1, 2, 3, 4],\n",
    "    \"B\": [5, 6, 7, 8]\n",
    "}, index=[1, 2, 3, 4])\n",
    "\n",
    "data2 = pd.DataFrame({\n",
    "    \"A\": [1, 2, 5, 6],\n",
    "    \"D\": [5, 6, 7, 8]\n",
    "}, index=[5, 6, 7, 8])\n",
    "\n",
    "print(pd.merge(data1, data2, on=\"A\"))\n",
    "print(\"-\" * 30)\n",
    "print(pd.merge(data1, data2, on=\"A\", how=\"outer\")) # Taking union of both frames (all possible values of 'A'), missing values are NaN\n",
    "print(\"-\" * 30)\n",
    "print(pd.merge(data1, data2, on=\"A\", how=\"inner\")) # Taking only the intersection betwen the two frames (only common values of 'A')"
   ]
  },
  {
   "cell_type": "code",
   "execution_count": 15,
   "metadata": {},
   "outputs": [
    {
     "name": "stdout",
     "output_type": "stream",
     "text": [
      "   A  B    C    D\n",
      "1  1  5  1.0  5.0\n",
      "2  2  6  NaN  NaN\n",
      "3  3  7  2.0  6.0\n",
      "4  4  8  NaN  NaN\n",
      "------------------------------\n",
      "     A    B    C    D\n",
      "1  1.0  5.0  1.0  5.0\n",
      "2  2.0  6.0  NaN  NaN\n",
      "3  3.0  7.0  2.0  6.0\n",
      "4  4.0  8.0  NaN  NaN\n",
      "5  NaN  NaN  5.0  7.0\n",
      "7  NaN  NaN  6.0  8.0\n",
      "------------------------------\n",
      "   A  B  C  D\n",
      "1  1  5  1  5\n",
      "3  3  7  2  6\n",
      "------------------------------\n"
     ]
    }
   ],
   "source": [
    "\n",
    "# Join\n",
    "# it is not a function in pandas -> it is a function in the data frame object\n",
    "# joining data frames (like merge but no common column) -> joining along the index\n",
    "# like merge -> can be outer/inner joins like SQL\n",
    "\n",
    "data1 = pd.DataFrame({\n",
    "    \"A\": [1, 2, 3, 4],\n",
    "    \"B\": [5, 6, 7, 8]\n",
    "}, index=[1, 2, 3, 4])\n",
    "\n",
    "data2 = pd.DataFrame({\n",
    "    \"C\": [1, 2, 5, 6],\n",
    "    \"D\": [5, 6, 7, 8]\n",
    "}, index=[1, 3, 5, 7])\n",
    "\n",
    "print(data1.join(data2))\n",
    "print(\"-\" * 30)\n",
    "print(data1.join(data2, how=\"outer\"))\n",
    "print(\"-\" * 30)\n",
    "print(data1.join(data2, how=\"inner\"))\n",
    "print(\"-\" * 30)"
   ]
  },
  {
   "cell_type": "code",
   "execution_count": null,
   "metadata": {
    "collapsed": true
   },
   "outputs": [],
   "source": []
  }
 ],
 "metadata": {
  "kernelspec": {
   "display_name": "Python 3",
   "language": "python",
   "name": "python3"
  },
  "language_info": {
   "codemirror_mode": {
    "name": "ipython",
    "version": 3
   },
   "file_extension": ".py",
   "mimetype": "text/x-python",
   "name": "python",
   "nbconvert_exporter": "python",
   "pygments_lexer": "ipython3",
   "version": "3.6.1"
  }
 },
 "nbformat": 4,
 "nbformat_minor": 2
}
